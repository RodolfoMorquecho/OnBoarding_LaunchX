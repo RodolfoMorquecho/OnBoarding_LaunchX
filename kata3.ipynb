{
 "cells": [
  {
   "cell_type": "markdown",
   "metadata": {},
   "source": [
    "## Problema 1\n",
    "- Añadir el código necesario para crear una variable que guarde la velocidad del asteroide.\n",
    "- Escribe una expresión de prueba para calcular si necesita una advertencia.\n",
    "- Agregue las instrucciones que se ejecutarán si la expresión de prueba es true o false."
   ]
  },
  {
   "cell_type": "code",
   "execution_count": 1,
   "metadata": {},
   "outputs": [
    {
     "name": "stdout",
     "output_type": "stream",
     "text": [
      "¡Alerta! busca un refugio que se acerca un asteroide\n"
     ]
    }
   ],
   "source": [
    "asteroideVel = 49\n",
    "if asteroideVel > 25:\n",
    "    print('¡Alerta! busca un refugio que se acerca un asteroide')\n",
    "else:\n",
    "    print('El planeta esta despejado de amenazas')"
   ]
  },
  {
   "cell_type": "markdown",
   "metadata": {},
   "source": [
    "## Problema 2\n",
    "- Agrega el código para crear una variable para un asteroide que viaja a 19 km/s\n",
    "- Escribe varias expresiones de prueba para determinar si puedes ver el rayo de luz desde la tierra\n",
    "- Agrega las instrucciones que se ejecutarán si las expresiones de prueba son True o False"
   ]
  },
  {
   "cell_type": "code",
   "execution_count": 4,
   "metadata": {},
   "outputs": [
    {
     "name": "stdout",
     "output_type": "stream",
     "text": [
      "No hay nada por ver :(\n"
     ]
    }
   ],
   "source": [
    "asteroideVel = 19\n",
    "if asteroideVel > 20:\n",
    "    print('Mira arriba! Un rayo de luz')\n",
    "elif asteroideVel == 20:\n",
    "    print('Mira arriba! Un rayo de luz')\n",
    "else:\n",
    "    print('No hay nada por ver :(')\n"
   ]
  },
  {
   "cell_type": "markdown",
   "metadata": {},
   "source": [
    "## PRoblema 3\n",
    "- Agrega el código para crear nuevas variables para la velocidad y el tamaño del asteroide\n",
    "- Para probar el código, prueba con varias velocidades y tamaños\n",
    "- Escribe varias expresiones de prueba o combinaciones de expresiones de prueba para determinar qué mensaje se debe enviar a Tierra"
   ]
  },
  {
   "cell_type": "code",
   "execution_count": 5,
   "metadata": {},
   "outputs": [
    {
     "name": "stdout",
     "output_type": "stream",
     "text": [
      "¡Alerta, Un asteroide muy peligroso viene hacia la Tierra!\n"
     ]
    }
   ],
   "source": [
    "velocidad_asteroide = 38\n",
    "tamano_asteroide = 82\n",
    "if velocidad_asteroide > 25 and tamano_asteroide > 25:\n",
    "    print('¡Alerta! busca un refugio que se acerca un asteroide')\n",
    "elif velocidad_asteroide >= 20:\n",
    "    print('Mira arriba! Un rayo de luz')\n",
    "elif tamano_asteroide < 25:\n",
    "    print('Nada que ver aquí :)')\n",
    "else:\n",
    "    print('Nada que ver aquí :)')"
   ]
  }
 ],
 "metadata": {
  "language_info": {
   "name": "python"
  },
  "orig_nbformat": 4
 },
 "nbformat": 4,
 "nbformat_minor": 2
}
